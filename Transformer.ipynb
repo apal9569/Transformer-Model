{
  "cells": [
    {
      "cell_type": "code",
      "execution_count": 1,
      "id": "9383b913",
      "metadata": {
        "id": "9383b913"
      },
      "outputs": [],
      "source": [
        "import torch\n",
        "import torch.nn as nn\n",
        "import torch.optim as optim\n",
        "import math\n",
        "import numpy as np\n",
        "from tqdm import tqdm"
      ]
    },
    {
      "cell_type": "code",
      "execution_count": 2,
      "id": "e55315ef",
      "metadata": {
        "colab": {
          "base_uri": "https://localhost:8080/"
        },
        "id": "e55315ef",
        "outputId": "3ab76f0f-deb9-414e-ff9d-a8e41c170f27"
      },
      "outputs": [
        {
          "data": {
            "text/plain": [
              "<torch._C.Generator at 0x7f076dadbd10>"
            ]
          },
          "execution_count": 2,
          "metadata": {},
          "output_type": "execute_result"
        }
      ],
      "source": [
        "torch.manual_seed(42)  # this is to ensure deterministic behavior"
      ]
    },
    {
      "cell_type": "code",
      "execution_count": 3,
      "id": "0cd09450",
      "metadata": {
        "id": "0cd09450"
      },
      "outputs": [],
      "source": [
        "def positional_encoding_function(maxL, D):\n",
        "        pe = torch.zeros(maxL, D)\n",
        "            # pe measures (maxL, D)\n",
        "        position = torch.arange(0, maxL).unsqueeze(1)\n",
        "            # (maxL) --> (maxL, 1) via unsqueeze(1)\n",
        "        coeff = torch.exp(torch.arange(0, D, 2).float() * -(math.log(10000.0) / D))\n",
        "\n",
        "        pe[:, 0::2] = torch.sin(position * coeff)  # fill in even positions\n",
        "        pe[:, 1::2] = torch.cos(position * coeff)  # fill in odd positions\n",
        "        return pe"
      ]
    },
    {
      "cell_type": "code",
      "execution_count": 4,
      "id": "99047340",
      "metadata": {
        "colab": {
          "base_uri": "https://localhost:8080/"
        },
        "id": "99047340",
        "outputId": "28705f94-4586-4238-cebd-c068b9318f6c"
      },
      "outputs": [
        {
          "data": {
            "text/plain": [
              "torch.Size([10, 4])"
            ]
          },
          "execution_count": 4,
          "metadata": {},
          "output_type": "execute_result"
        }
      ],
      "source": [
        "positional_encoding_function(10, 4).shape"
      ]
    },
    {
      "cell_type": "code",
      "execution_count": 5,
      "id": "431cb606",
      "metadata": {
        "id": "431cb606"
      },
      "outputs": [],
      "source": [
        "\n",
        "class PositionalEncoding(nn.Module):\n",
        "    def __init__(self, D, maxL):\n",
        "        super(PositionalEncoding, self).__init__()\n",
        "        self.pe = nn.Parameter(positional_encoding_function(maxL, D).unsqueeze(0), requires_grad=False) # FIXME\n",
        "    def forward(self, x):\n",
        "        return x  + self.pe[:,:x.size(1)]# FIXME"
      ]
    },
    {
      "cell_type": "code",
      "execution_count": 7,
      "id": "58cdbe78",
      "metadata": {
        "id": "58cdbe78"
      },
      "outputs": [],
      "source": [
        "class FeedForward(nn.Module):\n",
        "    def __init__(self, D, D_ff):\n",
        "        super(FeedForward, self).__init__()\n",
        "        self.fc1 = nn.Linear(D,D_ff) # FIXME\n",
        "        self.fc2 = nn.Linear(D_ff, D) # FIXME\n",
        "        self.relu = nn.ReLU() # FIXME\n",
        "\n",
        "    def forward(self, x):\n",
        "        x = self.fc1(x)\n",
        "        x = self.relu(x)\n",
        "        return self.fc2(x) # FIXME"
      ]
    },
    {
      "cell_type": "code",
      "execution_count": 27,
      "id": "7e43c9c0",
      "metadata": {
        "id": "7e43c9c0"
      },
      "outputs": [],
      "source": [
        "def split_heads(input, H):  # tensor shape is [B, L, D]\n",
        "    Dh = input.shape[2] // H\n",
        "    B, L, D = input.shape\n",
        "    input = input.view(B, L, H, Dh)\n",
        "    return input.permute(0, 2, 1, 3).contiguous() # FIXME\n",
        "\n",
        "def combine_heads(input):  # tensor shape is [B, H, L, D]\n",
        "    B, H, L, D = input.shape\n",
        "    input = input.permute(0, 2, 1, 3).contiguous()\n",
        "    return input.view(B, L, H * D)\n",
        "     # FIXME"
      ]
    },
    {
      "cell_type": "code",
      "execution_count": 29,
      "id": "6d54c354",
      "metadata": {
        "id": "6d54c354"
      },
      "outputs": [],
      "source": [
        "def generate_causality_mask(target):\n",
        "    L = target.size(1)\n",
        "    return torch.tril(torch.ones(1, L, L), diagonal=0).int()"
      ]
    },
    {
      "cell_type": "code",
      "execution_count": 73,
      "id": "147f8890",
      "metadata": {
        "id": "147f8890"
      },
      "outputs": [],
      "source": [
        "def scaled_dot_product_attention(Q, K, V, d_k, mask=None, negative_infinity=-1e9):\n",
        "    # print(Q,K)\n",
        "    attn_scores = torch.matmul(Q,K.transpose(-2,-1)) / (d_k**0.5) # FIXME (step 1)\n",
        "    if mask is not None:\n",
        "      attn_scores = torch.where(mask == 0, negative_infinity,attn_scores) # FIXME (step 2)\n",
        "    attn_probabilities = nn.Softmax(dim=-1)\n",
        "    attn_probabilities = attn_probabilities(attn_scores)\n",
        "    output = torch.matmul(attn_probabilities, V) # FIXME (step 4)\n",
        "    return output"
      ]
    },
    {
      "cell_type": "code",
      "execution_count": 75,
      "id": "af234b94",
      "metadata": {
        "id": "af234b94"
      },
      "outputs": [],
      "source": [
        "\n",
        "class MultiHeadAttention(nn.Module):\n",
        "    def __init__(self, D, H):\n",
        "        super(MultiHeadAttention, self).__init__()\n",
        "        assert D % H == 0, \"D must be divisible by H\"\n",
        "        self.D = D\n",
        "        self.H = H\n",
        "        self.Dh = D//H\n",
        "        self.W_q = nn.Linear(D, D)\n",
        "        self.W_k = nn.Linear(D, D)\n",
        "        self.W_v = nn.Linear(D, D)\n",
        "        self.W_o = nn.Linear(D, D)\n",
        "    def forward(self, Q, K, V, mask=None):\n",
        "        Q = split_heads(self.W_q(Q), self.H)\n",
        "        K = split_heads(self.W_k(K), self.H)\n",
        "        V = split_heads(self.W_v(V), self.H)\n",
        "\n",
        "        output = scaled_dot_product_attention(Q, K, V, self.Dh, mask, negative_infinity=-1e9)\n",
        "        output = combine_heads(output)\n",
        "\n",
        "        output = self.W_o(output)\n",
        "        return output # FIXME"
      ]
    },
    {
      "cell_type": "code",
      "execution_count": 77,
      "id": "e1e04eb9",
      "metadata": {
        "id": "e1e04eb9"
      },
      "outputs": [],
      "source": [
        "\n",
        "class EncoderLayer(nn.Module):\n",
        "    def __init__(self, D, H, D_ff, dropout):\n",
        "        super(EncoderLayer, self).__init__()\n",
        "        self.self_attention = MultiHeadAttention(D,H) # FIXME\n",
        "        self.feed_forward =  FeedForward(D, D_ff)# FIXME\n",
        "        self.norm1 = nn.LayerNorm(D) # FIXME\n",
        "        self.norm2 = nn.LayerNorm(D) # FIXME\n",
        "        self.dropout = nn.Dropout(dropout) # FIXME\n",
        "\n",
        "    def forward(self, x, mask=None):\n",
        "        attention = self.self_attention(x, x, x, mask)\n",
        "        x = self.norm1(x + self.dropout(attention))\n",
        "        ff = self.feed_forward(x)\n",
        "\n",
        "        return self.norm2(x + self.dropout(ff)) # FIXME\n"
      ]
    },
    {
      "cell_type": "code",
      "execution_count": 79,
      "id": "cf45f2e2",
      "metadata": {
        "id": "cf45f2e2"
      },
      "outputs": [],
      "source": [
        "\n",
        "class DecoderLayer(nn.Module):\n",
        "    def __init__(self, D, H, D_ff, dropout):\n",
        "        super(DecoderLayer, self).__init__()\n",
        "        self.self_attention = MultiHeadAttention(D, H) # FIXME\n",
        "        self.cross_attention = MultiHeadAttention(D, H) # FIXME\n",
        "        self.feed_forward = FeedForward(D, D_ff) # FIXME\n",
        "        self.norm1 = nn.LayerNorm(D) # FIXME\n",
        "        self.norm2 = nn.LayerNorm(D) # FIXME\n",
        "        self.norm3 = nn.LayerNorm(D) # FIXME\n",
        "        self.dropout = nn.Dropout(dropout) # FIXME\n",
        "\n",
        "    def forward(self, x, encoder_output, self_mask, cross_mask=None):\n",
        "        self_attention = self.self_attention(x, x, x, self_mask)\n",
        "        x = self.norm1(x + self.dropout(self_attention))\n",
        "        cross_attention = self.cross_attention(x, encoder_output, encoder_output, cross_mask)\n",
        "        x = self.norm2(x + self.dropout(cross_attention))\n",
        "        ff = self.feed_forward(x)\n",
        "        return self.norm3(x + self.dropout(ff))\n"
      ]
    },
    {
      "cell_type": "code",
      "execution_count": 81,
      "id": "002e78f7",
      "metadata": {
        "id": "002e78f7"
      },
      "outputs": [],
      "source": [
        "\n",
        "class Transformer(nn.Module):\n",
        "    def __init__(self, source_vocab_size, target_vocab_size, D,\n",
        "                H, Nx, D_ff, maxL, dropout):\n",
        "        super(Transformer, self).__init__()\n",
        "        self.encoder_embedding = nn.Embedding(source_vocab_size, D) # FIXME\n",
        "        self.decoder_embedding = nn.Embedding(target_vocab_size, D) # FIXME\n",
        "        self.positional_encoding = PositionalEncoding(D, maxL) # FIXME\n",
        "        self.encoder_layers = nn.ModuleList([EncoderLayer(D, H, D_ff, dropout) for _ in range(Nx)]) # FIXME\n",
        "        self.decoder_layers = nn.ModuleList([DecoderLayer(D, H, D_ff, dropout) for _ in range(Nx)]) # FIXME\n",
        "        self.fc = nn.Linear(D, target_vocab_size) # FIXME\n",
        "        self.dropout = nn.Dropout(dropout) # FIXME\n",
        "\n",
        "    def forward(self, source, target):\n",
        "        source = self.positional_encoding(self.dropout(self.encoder_embedding(source)))\n",
        "        target = self.positional_encoding(self.dropout(self.decoder_embedding(target)))\n",
        "        causality_mask = generate_causality_mask(target)\n",
        "        encoder_output = source\n",
        "        for encoder_layer in self.encoder_layers:\n",
        "            encoder_output = encoder_layer(encoder_output)\n",
        "        decoder_output = target\n",
        "        for decoder_layer in self.decoder_layers:\n",
        "            decoder_output = decoder_layer(decoder_output, encoder_output, causality_mask)\n",
        "        output = self.fc(decoder_output)\n",
        "        return output\n"
      ]
    },
    {
      "cell_type": "code",
      "execution_count": 68,
      "id": "e84b1ada",
      "metadata": {
        "id": "e84b1ada",
        "scrolled": false
      },
      "outputs": [],
      "source": [
        "source_vocab_size = 5000\n",
        "target_vocab_size = 5000\n",
        "D = 48\n",
        "H = 3\n",
        "Nx = 3\n",
        "D_ff = 128\n",
        "maxL = 20\n",
        "dropout = 0.1\n",
        "\n",
        "transformer = Transformer(source_vocab_size, target_vocab_size,\n",
        "                         D, H, Nx, D_ff, maxL, dropout)"
      ]
    },
    {
      "cell_type": "code",
      "execution_count": 69,
      "id": "24218d18",
      "metadata": {
        "id": "24218d18"
      },
      "outputs": [],
      "source": [
        "B = 64\n",
        "Ls = maxL  # arbitrary, but must be > 0 and <= maxL\n",
        "Lt = maxL  # arbitrary, but must be > 0 and <= maxL\n",
        "source_data = torch.randint(1, source_vocab_size, (B, Ls))\n",
        "target_data = torch.randint(1, target_vocab_size, (B, Lt))\n",
        "\n",
        "# generate a [B, L] tensor whose values are [1, source_vocab_size)\n",
        "# generate a [B, L] tensor whose values are [1, target_vocab_size)"
      ]
    },
    {
      "cell_type": "code",
      "execution_count": 70,
      "id": "6b864b5f",
      "metadata": {
        "colab": {
          "base_uri": "https://localhost:8080/"
        },
        "id": "6b864b5f",
        "outputId": "a48985f1-db93-44a2-9823-53a33a691abc",
        "scrolled": true
      },
      "outputs": [
        {
          "name": "stderr",
          "output_type": "stream",
          "text": [
            "  0%|          | 2/5001 [00:00<18:32,  4.49it/s]"
          ]
        },
        {
          "name": "stdout",
          "output_type": "stream",
          "text": [
            "Epoch: 1, Loss: 8.70529842376709)\n"
          ]
        },
        {
          "name": "stderr",
          "output_type": "stream",
          "text": [
            "  1%|          | 52/5001 [00:09<13:19,  6.19it/s]"
          ]
        },
        {
          "name": "stdout",
          "output_type": "stream",
          "text": [
            "Epoch: 51, Loss: 8.294711112976074)\n"
          ]
        },
        {
          "name": "stderr",
          "output_type": "stream",
          "text": [
            "  2%|▏         | 102/5001 [00:18<15:07,  5.40it/s]"
          ]
        },
        {
          "name": "stdout",
          "output_type": "stream",
          "text": [
            "Epoch: 101, Loss: 7.91542387008667)\n"
          ]
        },
        {
          "name": "stderr",
          "output_type": "stream",
          "text": [
            "  3%|▎         | 152/5001 [00:26<13:28,  6.00it/s]"
          ]
        },
        {
          "name": "stdout",
          "output_type": "stream",
          "text": [
            "Epoch: 151, Loss: 7.568960189819336)\n"
          ]
        },
        {
          "name": "stderr",
          "output_type": "stream",
          "text": [
            "  4%|▍         | 202/5001 [00:35<13:10,  6.07it/s]"
          ]
        },
        {
          "name": "stdout",
          "output_type": "stream",
          "text": [
            "Epoch: 201, Loss: 7.234884262084961)\n"
          ]
        },
        {
          "name": "stderr",
          "output_type": "stream",
          "text": [
            "  5%|▌         | 252/5001 [00:44<12:44,  6.21it/s]"
          ]
        },
        {
          "name": "stdout",
          "output_type": "stream",
          "text": [
            "Epoch: 251, Loss: 6.934198379516602)\n"
          ]
        },
        {
          "name": "stderr",
          "output_type": "stream",
          "text": [
            "  6%|▌         | 302/5001 [00:52<12:56,  6.05it/s]"
          ]
        },
        {
          "name": "stdout",
          "output_type": "stream",
          "text": [
            "Epoch: 301, Loss: 6.630430221557617)\n"
          ]
        },
        {
          "name": "stderr",
          "output_type": "stream",
          "text": [
            "  7%|▋         | 352/5001 [01:01<11:53,  6.51it/s]"
          ]
        },
        {
          "name": "stdout",
          "output_type": "stream",
          "text": [
            "Epoch: 351, Loss: 6.353003978729248)\n"
          ]
        },
        {
          "name": "stderr",
          "output_type": "stream",
          "text": [
            "  8%|▊         | 402/5001 [01:09<12:23,  6.18it/s]"
          ]
        },
        {
          "name": "stdout",
          "output_type": "stream",
          "text": [
            "Epoch: 401, Loss: 6.088189125061035)\n"
          ]
        },
        {
          "name": "stderr",
          "output_type": "stream",
          "text": [
            "  9%|▉         | 452/5001 [01:17<12:24,  6.11it/s]"
          ]
        },
        {
          "name": "stdout",
          "output_type": "stream",
          "text": [
            "Epoch: 451, Loss: 5.82076358795166)\n"
          ]
        },
        {
          "name": "stderr",
          "output_type": "stream",
          "text": [
            " 10%|█         | 502/5001 [01:26<12:24,  6.04it/s]"
          ]
        },
        {
          "name": "stdout",
          "output_type": "stream",
          "text": [
            "Epoch: 501, Loss: 5.5828728675842285)\n"
          ]
        },
        {
          "name": "stderr",
          "output_type": "stream",
          "text": [
            " 11%|█         | 552/5001 [01:35<11:48,  6.28it/s]"
          ]
        },
        {
          "name": "stdout",
          "output_type": "stream",
          "text": [
            "Epoch: 551, Loss: 5.343811988830566)\n"
          ]
        },
        {
          "name": "stderr",
          "output_type": "stream",
          "text": [
            " 12%|█▏        | 602/5001 [01:43<11:36,  6.32it/s]"
          ]
        },
        {
          "name": "stdout",
          "output_type": "stream",
          "text": [
            "Epoch: 601, Loss: 5.086688995361328)\n"
          ]
        },
        {
          "name": "stderr",
          "output_type": "stream",
          "text": [
            " 13%|█▎        | 652/5001 [01:52<11:16,  6.43it/s]"
          ]
        },
        {
          "name": "stdout",
          "output_type": "stream",
          "text": [
            "Epoch: 651, Loss: 4.856956481933594)\n"
          ]
        },
        {
          "name": "stderr",
          "output_type": "stream",
          "text": [
            " 14%|█▍        | 702/5001 [02:00<11:08,  6.43it/s]"
          ]
        },
        {
          "name": "stdout",
          "output_type": "stream",
          "text": [
            "Epoch: 701, Loss: 4.612321376800537)\n"
          ]
        },
        {
          "name": "stderr",
          "output_type": "stream",
          "text": [
            " 15%|█▌        | 752/5001 [02:08<11:13,  6.31it/s]"
          ]
        },
        {
          "name": "stdout",
          "output_type": "stream",
          "text": [
            "Epoch: 751, Loss: 4.380451202392578)\n"
          ]
        },
        {
          "name": "stderr",
          "output_type": "stream",
          "text": [
            " 16%|█▌        | 802/5001 [02:17<11:25,  6.13it/s]"
          ]
        },
        {
          "name": "stdout",
          "output_type": "stream",
          "text": [
            "Epoch: 801, Loss: 4.157071590423584)\n"
          ]
        },
        {
          "name": "stderr",
          "output_type": "stream",
          "text": [
            " 17%|█▋        | 852/5001 [02:26<10:49,  6.39it/s]"
          ]
        },
        {
          "name": "stdout",
          "output_type": "stream",
          "text": [
            "Epoch: 851, Loss: 3.9349348545074463)\n"
          ]
        },
        {
          "name": "stderr",
          "output_type": "stream",
          "text": [
            " 18%|█▊        | 902/5001 [02:33<10:55,  6.25it/s]"
          ]
        },
        {
          "name": "stdout",
          "output_type": "stream",
          "text": [
            "Epoch: 901, Loss: 3.7115108966827393)\n"
          ]
        },
        {
          "name": "stderr",
          "output_type": "stream",
          "text": [
            " 19%|█▉        | 952/5001 [02:42<10:35,  6.38it/s]"
          ]
        },
        {
          "name": "stdout",
          "output_type": "stream",
          "text": [
            "Epoch: 951, Loss: 3.496946334838867)\n"
          ]
        },
        {
          "name": "stderr",
          "output_type": "stream",
          "text": [
            " 20%|██        | 1002/5001 [02:51<10:40,  6.24it/s]"
          ]
        },
        {
          "name": "stdout",
          "output_type": "stream",
          "text": [
            "Epoch: 1001, Loss: 3.2868130207061768)\n"
          ]
        },
        {
          "name": "stderr",
          "output_type": "stream",
          "text": [
            " 21%|██        | 1052/5001 [02:59<10:46,  6.10it/s]"
          ]
        },
        {
          "name": "stdout",
          "output_type": "stream",
          "text": [
            "Epoch: 1051, Loss: 3.0911567211151123)\n"
          ]
        },
        {
          "name": "stderr",
          "output_type": "stream",
          "text": [
            " 22%|██▏       | 1102/5001 [03:07<10:33,  6.15it/s]"
          ]
        },
        {
          "name": "stdout",
          "output_type": "stream",
          "text": [
            "Epoch: 1101, Loss: 2.881333827972412)\n"
          ]
        },
        {
          "name": "stderr",
          "output_type": "stream",
          "text": [
            " 23%|██▎       | 1152/5001 [03:16<10:23,  6.17it/s]"
          ]
        },
        {
          "name": "stdout",
          "output_type": "stream",
          "text": [
            "Epoch: 1151, Loss: 2.6833972930908203)\n"
          ]
        },
        {
          "name": "stderr",
          "output_type": "stream",
          "text": [
            " 24%|██▍       | 1202/5001 [03:24<09:49,  6.44it/s]"
          ]
        },
        {
          "name": "stdout",
          "output_type": "stream",
          "text": [
            "Epoch: 1201, Loss: 2.5074496269226074)\n"
          ]
        },
        {
          "name": "stderr",
          "output_type": "stream",
          "text": [
            " 25%|██▌       | 1252/5001 [03:32<10:16,  6.08it/s]"
          ]
        },
        {
          "name": "stdout",
          "output_type": "stream",
          "text": [
            "Epoch: 1251, Loss: 2.3121111392974854)\n"
          ]
        },
        {
          "name": "stderr",
          "output_type": "stream",
          "text": [
            " 26%|██▌       | 1302/5001 [03:41<10:25,  5.91it/s]"
          ]
        },
        {
          "name": "stdout",
          "output_type": "stream",
          "text": [
            "Epoch: 1301, Loss: 2.112720012664795)\n"
          ]
        },
        {
          "name": "stderr",
          "output_type": "stream",
          "text": [
            " 27%|██▋       | 1352/5001 [03:49<09:32,  6.38it/s]"
          ]
        },
        {
          "name": "stdout",
          "output_type": "stream",
          "text": [
            "Epoch: 1351, Loss: 1.9567716121673584)\n"
          ]
        },
        {
          "name": "stderr",
          "output_type": "stream",
          "text": [
            " 28%|██▊       | 1402/5001 [03:58<09:27,  6.34it/s]"
          ]
        },
        {
          "name": "stdout",
          "output_type": "stream",
          "text": [
            "Epoch: 1401, Loss: 1.8086856603622437)\n"
          ]
        },
        {
          "name": "stderr",
          "output_type": "stream",
          "text": [
            " 29%|██▉       | 1452/5001 [04:06<09:05,  6.51it/s]"
          ]
        },
        {
          "name": "stdout",
          "output_type": "stream",
          "text": [
            "Epoch: 1451, Loss: 1.632217288017273)\n"
          ]
        },
        {
          "name": "stderr",
          "output_type": "stream",
          "text": [
            " 30%|███       | 1502/5001 [04:14<09:03,  6.44it/s]"
          ]
        },
        {
          "name": "stdout",
          "output_type": "stream",
          "text": [
            "Epoch: 1501, Loss: 1.4825083017349243)\n"
          ]
        },
        {
          "name": "stderr",
          "output_type": "stream",
          "text": [
            " 31%|███       | 1552/5001 [04:23<08:49,  6.51it/s]"
          ]
        },
        {
          "name": "stdout",
          "output_type": "stream",
          "text": [
            "Epoch: 1551, Loss: 1.336799144744873)\n"
          ]
        },
        {
          "name": "stderr",
          "output_type": "stream",
          "text": [
            " 32%|███▏      | 1602/5001 [04:32<09:06,  6.22it/s]"
          ]
        },
        {
          "name": "stdout",
          "output_type": "stream",
          "text": [
            "Epoch: 1601, Loss: 1.2205369472503662)\n"
          ]
        },
        {
          "name": "stderr",
          "output_type": "stream",
          "text": [
            " 33%|███▎      | 1652/5001 [04:39<08:45,  6.38it/s]"
          ]
        },
        {
          "name": "stdout",
          "output_type": "stream",
          "text": [
            "Epoch: 1651, Loss: 1.0917450189590454)\n"
          ]
        },
        {
          "name": "stderr",
          "output_type": "stream",
          "text": [
            " 34%|███▍      | 1702/5001 [04:48<08:52,  6.19it/s]"
          ]
        },
        {
          "name": "stdout",
          "output_type": "stream",
          "text": [
            "Epoch: 1701, Loss: 0.9865536689758301)\n"
          ]
        },
        {
          "name": "stderr",
          "output_type": "stream",
          "text": [
            " 35%|███▌      | 1752/5001 [04:57<08:31,  6.35it/s]"
          ]
        },
        {
          "name": "stdout",
          "output_type": "stream",
          "text": [
            "Epoch: 1751, Loss: 0.8720089793205261)\n"
          ]
        },
        {
          "name": "stderr",
          "output_type": "stream",
          "text": [
            " 36%|███▌      | 1802/5001 [05:04<08:17,  6.43it/s]"
          ]
        },
        {
          "name": "stdout",
          "output_type": "stream",
          "text": [
            "Epoch: 1801, Loss: 0.7752055525779724)\n"
          ]
        },
        {
          "name": "stderr",
          "output_type": "stream",
          "text": [
            " 37%|███▋      | 1852/5001 [05:13<08:10,  6.42it/s]"
          ]
        },
        {
          "name": "stdout",
          "output_type": "stream",
          "text": [
            "Epoch: 1851, Loss: 0.6940938830375671)\n"
          ]
        },
        {
          "name": "stderr",
          "output_type": "stream",
          "text": [
            " 38%|███▊      | 1902/5001 [05:21<08:40,  5.96it/s]"
          ]
        },
        {
          "name": "stdout",
          "output_type": "stream",
          "text": [
            "Epoch: 1901, Loss: 0.6052128672599792)\n"
          ]
        },
        {
          "name": "stderr",
          "output_type": "stream",
          "text": [
            " 39%|███▉      | 1952/5001 [05:29<07:51,  6.47it/s]"
          ]
        },
        {
          "name": "stdout",
          "output_type": "stream",
          "text": [
            "Epoch: 1951, Loss: 0.5300348997116089)\n"
          ]
        },
        {
          "name": "stderr",
          "output_type": "stream",
          "text": [
            " 40%|████      | 2002/5001 [05:38<08:10,  6.11it/s]"
          ]
        },
        {
          "name": "stdout",
          "output_type": "stream",
          "text": [
            "Epoch: 2001, Loss: 0.4623832106590271)\n"
          ]
        },
        {
          "name": "stderr",
          "output_type": "stream",
          "text": [
            " 41%|████      | 2052/5001 [05:46<07:43,  6.37it/s]"
          ]
        },
        {
          "name": "stdout",
          "output_type": "stream",
          "text": [
            "Epoch: 2051, Loss: 0.41113871335983276)\n"
          ]
        },
        {
          "name": "stderr",
          "output_type": "stream",
          "text": [
            " 42%|████▏     | 2102/5001 [05:54<07:19,  6.60it/s]"
          ]
        },
        {
          "name": "stdout",
          "output_type": "stream",
          "text": [
            "Epoch: 2101, Loss: 0.35521364212036133)\n"
          ]
        },
        {
          "name": "stderr",
          "output_type": "stream",
          "text": [
            " 43%|████▎     | 2152/5001 [06:03<07:35,  6.25it/s]"
          ]
        },
        {
          "name": "stdout",
          "output_type": "stream",
          "text": [
            "Epoch: 2151, Loss: 0.3154280185699463)\n"
          ]
        },
        {
          "name": "stderr",
          "output_type": "stream",
          "text": [
            " 44%|████▍     | 2202/5001 [06:11<07:33,  6.17it/s]"
          ]
        },
        {
          "name": "stdout",
          "output_type": "stream",
          "text": [
            "Epoch: 2201, Loss: 0.27811896800994873)\n"
          ]
        },
        {
          "name": "stderr",
          "output_type": "stream",
          "text": [
            " 45%|████▌     | 2252/5001 [06:19<07:14,  6.33it/s]"
          ]
        },
        {
          "name": "stdout",
          "output_type": "stream",
          "text": [
            "Epoch: 2251, Loss: 0.24202246963977814)\n"
          ]
        },
        {
          "name": "stderr",
          "output_type": "stream",
          "text": [
            " 46%|████▌     | 2302/5001 [06:28<07:06,  6.32it/s]"
          ]
        },
        {
          "name": "stdout",
          "output_type": "stream",
          "text": [
            "Epoch: 2301, Loss: 0.2085905224084854)\n"
          ]
        },
        {
          "name": "stderr",
          "output_type": "stream",
          "text": [
            " 47%|████▋     | 2352/5001 [06:36<07:28,  5.91it/s]"
          ]
        },
        {
          "name": "stdout",
          "output_type": "stream",
          "text": [
            "Epoch: 2351, Loss: 0.18693427741527557)\n"
          ]
        },
        {
          "name": "stderr",
          "output_type": "stream",
          "text": [
            " 48%|████▊     | 2402/5001 [06:44<06:54,  6.28it/s]"
          ]
        },
        {
          "name": "stdout",
          "output_type": "stream",
          "text": [
            "Epoch: 2401, Loss: 0.15979869663715363)\n"
          ]
        },
        {
          "name": "stderr",
          "output_type": "stream",
          "text": [
            " 49%|████▉     | 2452/5001 [06:53<06:51,  6.19it/s]"
          ]
        },
        {
          "name": "stdout",
          "output_type": "stream",
          "text": [
            "Epoch: 2451, Loss: 0.13768628239631653)\n"
          ]
        },
        {
          "name": "stderr",
          "output_type": "stream",
          "text": [
            " 50%|█████     | 2502/5001 [07:01<06:56,  6.00it/s]"
          ]
        },
        {
          "name": "stdout",
          "output_type": "stream",
          "text": [
            "Epoch: 2501, Loss: 0.12140591442584991)\n"
          ]
        },
        {
          "name": "stderr",
          "output_type": "stream",
          "text": [
            " 51%|█████     | 2552/5001 [07:09<06:19,  6.46it/s]"
          ]
        },
        {
          "name": "stdout",
          "output_type": "stream",
          "text": [
            "Epoch: 2551, Loss: 0.10767857730388641)\n"
          ]
        },
        {
          "name": "stderr",
          "output_type": "stream",
          "text": [
            " 52%|█████▏    | 2602/5001 [07:18<06:28,  6.18it/s]"
          ]
        },
        {
          "name": "stdout",
          "output_type": "stream",
          "text": [
            "Epoch: 2601, Loss: 0.09356371313333511)\n"
          ]
        },
        {
          "name": "stderr",
          "output_type": "stream",
          "text": [
            " 53%|█████▎    | 2652/5001 [07:26<06:41,  5.85it/s]"
          ]
        },
        {
          "name": "stdout",
          "output_type": "stream",
          "text": [
            "Epoch: 2651, Loss: 0.08252225816249847)\n"
          ]
        },
        {
          "name": "stderr",
          "output_type": "stream",
          "text": [
            " 54%|█████▍    | 2702/5001 [07:34<06:11,  6.18it/s]"
          ]
        },
        {
          "name": "stdout",
          "output_type": "stream",
          "text": [
            "Epoch: 2701, Loss: 0.07142046093940735)\n"
          ]
        },
        {
          "name": "stderr",
          "output_type": "stream",
          "text": [
            " 55%|█████▌    | 2752/5001 [07:43<06:04,  6.17it/s]"
          ]
        },
        {
          "name": "stdout",
          "output_type": "stream",
          "text": [
            "Epoch: 2751, Loss: 0.06499768048524857)\n"
          ]
        },
        {
          "name": "stderr",
          "output_type": "stream",
          "text": [
            " 56%|█████▌    | 2802/5001 [07:52<06:09,  5.95it/s]"
          ]
        },
        {
          "name": "stdout",
          "output_type": "stream",
          "text": [
            "Epoch: 2801, Loss: 0.054833751171827316)\n"
          ]
        },
        {
          "name": "stderr",
          "output_type": "stream",
          "text": [
            " 57%|█████▋    | 2852/5001 [08:00<06:04,  5.89it/s]"
          ]
        },
        {
          "name": "stdout",
          "output_type": "stream",
          "text": [
            "Epoch: 2851, Loss: 0.04737318679690361)\n"
          ]
        },
        {
          "name": "stderr",
          "output_type": "stream",
          "text": [
            " 58%|█████▊    | 2902/5001 [08:08<05:23,  6.49it/s]"
          ]
        },
        {
          "name": "stdout",
          "output_type": "stream",
          "text": [
            "Epoch: 2901, Loss: 0.042736656963825226)\n"
          ]
        },
        {
          "name": "stderr",
          "output_type": "stream",
          "text": [
            " 59%|█████▉    | 2952/5001 [08:17<05:42,  5.98it/s]"
          ]
        },
        {
          "name": "stdout",
          "output_type": "stream",
          "text": [
            "Epoch: 2951, Loss: 0.04106326028704643)\n"
          ]
        },
        {
          "name": "stderr",
          "output_type": "stream",
          "text": [
            " 60%|██████    | 3002/5001 [08:25<05:10,  6.43it/s]"
          ]
        },
        {
          "name": "stdout",
          "output_type": "stream",
          "text": [
            "Epoch: 3001, Loss: 0.03262796625494957)\n"
          ]
        },
        {
          "name": "stderr",
          "output_type": "stream",
          "text": [
            " 61%|██████    | 3052/5001 [08:33<05:00,  6.48it/s]"
          ]
        },
        {
          "name": "stdout",
          "output_type": "stream",
          "text": [
            "Epoch: 3051, Loss: 0.030044326558709145)\n"
          ]
        },
        {
          "name": "stderr",
          "output_type": "stream",
          "text": [
            " 62%|██████▏   | 3102/5001 [08:42<05:42,  5.54it/s]"
          ]
        },
        {
          "name": "stdout",
          "output_type": "stream",
          "text": [
            "Epoch: 3101, Loss: 0.025561407208442688)\n"
          ]
        },
        {
          "name": "stderr",
          "output_type": "stream",
          "text": [
            " 63%|██████▎   | 3152/5001 [08:50<04:59,  6.17it/s]"
          ]
        },
        {
          "name": "stdout",
          "output_type": "stream",
          "text": [
            "Epoch: 3151, Loss: 0.021972689777612686)\n"
          ]
        },
        {
          "name": "stderr",
          "output_type": "stream",
          "text": [
            " 64%|██████▍   | 3202/5001 [08:59<04:51,  6.18it/s]"
          ]
        },
        {
          "name": "stdout",
          "output_type": "stream",
          "text": [
            "Epoch: 3201, Loss: 0.021016092970967293)\n"
          ]
        },
        {
          "name": "stderr",
          "output_type": "stream",
          "text": [
            " 65%|██████▌   | 3252/5001 [09:07<04:54,  5.94it/s]"
          ]
        },
        {
          "name": "stdout",
          "output_type": "stream",
          "text": [
            "Epoch: 3251, Loss: 0.017080729827284813)\n"
          ]
        },
        {
          "name": "stderr",
          "output_type": "stream",
          "text": [
            " 66%|██████▌   | 3302/5001 [09:15<04:20,  6.51it/s]"
          ]
        },
        {
          "name": "stdout",
          "output_type": "stream",
          "text": [
            "Epoch: 3301, Loss: 0.01591116562485695)\n"
          ]
        },
        {
          "name": "stderr",
          "output_type": "stream",
          "text": [
            " 67%|██████▋   | 3352/5001 [09:23<04:13,  6.51it/s]"
          ]
        },
        {
          "name": "stdout",
          "output_type": "stream",
          "text": [
            "Epoch: 3351, Loss: 0.014211338944733143)\n"
          ]
        },
        {
          "name": "stderr",
          "output_type": "stream",
          "text": [
            " 68%|██████▊   | 3402/5001 [09:32<05:10,  5.16it/s]"
          ]
        },
        {
          "name": "stdout",
          "output_type": "stream",
          "text": [
            "Epoch: 3401, Loss: 0.012238191440701485)\n"
          ]
        },
        {
          "name": "stderr",
          "output_type": "stream",
          "text": [
            " 69%|██████▉   | 3452/5001 [09:40<04:11,  6.17it/s]"
          ]
        },
        {
          "name": "stdout",
          "output_type": "stream",
          "text": [
            "Epoch: 3451, Loss: 0.011137500405311584)\n"
          ]
        },
        {
          "name": "stderr",
          "output_type": "stream",
          "text": [
            " 70%|███████   | 3502/5001 [09:48<04:07,  6.05it/s]"
          ]
        },
        {
          "name": "stdout",
          "output_type": "stream",
          "text": [
            "Epoch: 3501, Loss: 0.009886584244668484)\n"
          ]
        },
        {
          "name": "stderr",
          "output_type": "stream",
          "text": [
            " 71%|███████   | 3552/5001 [09:57<04:56,  4.89it/s]"
          ]
        },
        {
          "name": "stdout",
          "output_type": "stream",
          "text": [
            "Epoch: 3551, Loss: 0.00826592743396759)\n"
          ]
        },
        {
          "name": "stderr",
          "output_type": "stream",
          "text": [
            " 72%|███████▏  | 3602/5001 [10:05<03:42,  6.30it/s]"
          ]
        },
        {
          "name": "stdout",
          "output_type": "stream",
          "text": [
            "Epoch: 3601, Loss: 0.0077231526374816895)\n"
          ]
        },
        {
          "name": "stderr",
          "output_type": "stream",
          "text": [
            " 73%|███████▎  | 3652/5001 [10:13<03:38,  6.16it/s]"
          ]
        },
        {
          "name": "stdout",
          "output_type": "stream",
          "text": [
            "Epoch: 3651, Loss: 0.00714213028550148)\n"
          ]
        },
        {
          "name": "stderr",
          "output_type": "stream",
          "text": [
            " 74%|███████▍  | 3701/5001 [10:22<04:55,  4.41it/s]"
          ]
        },
        {
          "name": "stdout",
          "output_type": "stream",
          "text": [
            "Epoch: 3701, Loss: 0.006985476706176996)\n"
          ]
        },
        {
          "name": "stderr",
          "output_type": "stream",
          "text": [
            " 75%|███████▌  | 3752/5001 [10:30<03:16,  6.34it/s]"
          ]
        },
        {
          "name": "stdout",
          "output_type": "stream",
          "text": [
            "Epoch: 3751, Loss: 0.005265434738248587)\n"
          ]
        },
        {
          "name": "stderr",
          "output_type": "stream",
          "text": [
            " 76%|███████▌  | 3802/5001 [10:38<03:06,  6.44it/s]"
          ]
        },
        {
          "name": "stdout",
          "output_type": "stream",
          "text": [
            "Epoch: 3801, Loss: 0.0047949813306331635)\n"
          ]
        },
        {
          "name": "stderr",
          "output_type": "stream",
          "text": [
            " 77%|███████▋  | 3851/5001 [10:46<04:11,  4.58it/s]"
          ]
        },
        {
          "name": "stdout",
          "output_type": "stream",
          "text": [
            "Epoch: 3851, Loss: 0.004261108580976725)\n"
          ]
        },
        {
          "name": "stderr",
          "output_type": "stream",
          "text": [
            " 78%|███████▊  | 3902/5001 [10:54<02:58,  6.16it/s]"
          ]
        },
        {
          "name": "stdout",
          "output_type": "stream",
          "text": [
            "Epoch: 3901, Loss: 0.00403187470510602)\n"
          ]
        },
        {
          "name": "stderr",
          "output_type": "stream",
          "text": [
            " 79%|███████▉  | 3952/5001 [11:03<02:53,  6.05it/s]"
          ]
        },
        {
          "name": "stdout",
          "output_type": "stream",
          "text": [
            "Epoch: 3951, Loss: 0.0034941101912409067)\n"
          ]
        },
        {
          "name": "stderr",
          "output_type": "stream",
          "text": [
            " 80%|████████  | 4001/5001 [11:11<03:44,  4.46it/s]"
          ]
        },
        {
          "name": "stdout",
          "output_type": "stream",
          "text": [
            "Epoch: 4001, Loss: 0.0032519937958568335)\n"
          ]
        },
        {
          "name": "stderr",
          "output_type": "stream",
          "text": [
            " 81%|████████  | 4052/5001 [11:20<02:28,  6.40it/s]"
          ]
        },
        {
          "name": "stdout",
          "output_type": "stream",
          "text": [
            "Epoch: 4051, Loss: 0.0027027397882193327)\n"
          ]
        },
        {
          "name": "stderr",
          "output_type": "stream",
          "text": [
            " 82%|████████▏ | 4102/5001 [11:29<02:26,  6.12it/s]"
          ]
        },
        {
          "name": "stdout",
          "output_type": "stream",
          "text": [
            "Epoch: 4101, Loss: 0.0024673976004123688)\n"
          ]
        },
        {
          "name": "stderr",
          "output_type": "stream",
          "text": [
            " 83%|████████▎ | 4151/5001 [11:37<03:08,  4.50it/s]"
          ]
        },
        {
          "name": "stdout",
          "output_type": "stream",
          "text": [
            "Epoch: 4151, Loss: 0.0022938568145036697)\n"
          ]
        },
        {
          "name": "stderr",
          "output_type": "stream",
          "text": [
            " 84%|████████▍ | 4202/5001 [11:45<02:05,  6.35it/s]"
          ]
        },
        {
          "name": "stdout",
          "output_type": "stream",
          "text": [
            "Epoch: 4201, Loss: 0.002025703666731715)\n"
          ]
        },
        {
          "name": "stderr",
          "output_type": "stream",
          "text": [
            " 85%|████████▌ | 4252/5001 [11:54<02:02,  6.13it/s]"
          ]
        },
        {
          "name": "stdout",
          "output_type": "stream",
          "text": [
            "Epoch: 4251, Loss: 0.0019277480896562338)\n"
          ]
        },
        {
          "name": "stderr",
          "output_type": "stream",
          "text": [
            " 86%|████████▌ | 4301/5001 [12:02<02:42,  4.32it/s]"
          ]
        },
        {
          "name": "stdout",
          "output_type": "stream",
          "text": [
            "Epoch: 4301, Loss: 0.0017545847222208977)\n"
          ]
        },
        {
          "name": "stderr",
          "output_type": "stream",
          "text": [
            " 87%|████████▋ | 4352/5001 [12:10<01:39,  6.54it/s]"
          ]
        },
        {
          "name": "stdout",
          "output_type": "stream",
          "text": [
            "Epoch: 4351, Loss: 0.0014713300624862313)\n"
          ]
        },
        {
          "name": "stderr",
          "output_type": "stream",
          "text": [
            " 88%|████████▊ | 4402/5001 [12:19<01:34,  6.31it/s]"
          ]
        },
        {
          "name": "stdout",
          "output_type": "stream",
          "text": [
            "Epoch: 4401, Loss: 0.0013264266308397055)\n"
          ]
        },
        {
          "name": "stderr",
          "output_type": "stream",
          "text": [
            " 89%|████████▉ | 4451/5001 [12:27<02:06,  4.34it/s]"
          ]
        },
        {
          "name": "stdout",
          "output_type": "stream",
          "text": [
            "Epoch: 4451, Loss: 0.0012226589024066925)\n"
          ]
        },
        {
          "name": "stderr",
          "output_type": "stream",
          "text": [
            " 90%|█████████ | 4502/5001 [12:35<01:17,  6.46it/s]"
          ]
        },
        {
          "name": "stdout",
          "output_type": "stream",
          "text": [
            "Epoch: 4501, Loss: 0.0010951567674055696)\n"
          ]
        },
        {
          "name": "stderr",
          "output_type": "stream",
          "text": [
            " 91%|█████████ | 4552/5001 [12:44<01:10,  6.36it/s]"
          ]
        },
        {
          "name": "stdout",
          "output_type": "stream",
          "text": [
            "Epoch: 4551, Loss: 0.000951902475208044)\n"
          ]
        },
        {
          "name": "stderr",
          "output_type": "stream",
          "text": [
            " 92%|█████████▏| 4601/5001 [12:52<01:32,  4.33it/s]"
          ]
        },
        {
          "name": "stdout",
          "output_type": "stream",
          "text": [
            "Epoch: 4601, Loss: 0.0008752172579988837)\n"
          ]
        },
        {
          "name": "stderr",
          "output_type": "stream",
          "text": [
            " 93%|█████████▎| 4652/5001 [13:01<00:54,  6.35it/s]"
          ]
        },
        {
          "name": "stdout",
          "output_type": "stream",
          "text": [
            "Epoch: 4651, Loss: 0.0008192126406356692)\n"
          ]
        },
        {
          "name": "stderr",
          "output_type": "stream",
          "text": [
            " 94%|█████████▍| 4702/5001 [13:09<00:49,  6.07it/s]"
          ]
        },
        {
          "name": "stdout",
          "output_type": "stream",
          "text": [
            "Epoch: 4701, Loss: 0.0007221954874694347)\n"
          ]
        },
        {
          "name": "stderr",
          "output_type": "stream",
          "text": [
            " 95%|█████████▌| 4751/5001 [13:18<00:56,  4.45it/s]"
          ]
        },
        {
          "name": "stdout",
          "output_type": "stream",
          "text": [
            "Epoch: 4751, Loss: 0.0006916519487276673)\n"
          ]
        },
        {
          "name": "stderr",
          "output_type": "stream",
          "text": [
            " 96%|█████████▌| 4802/5001 [13:26<00:32,  6.09it/s]"
          ]
        },
        {
          "name": "stdout",
          "output_type": "stream",
          "text": [
            "Epoch: 4801, Loss: 0.0005749334814026952)\n"
          ]
        },
        {
          "name": "stderr",
          "output_type": "stream",
          "text": [
            " 97%|█████████▋| 4852/5001 [13:35<00:22,  6.48it/s]"
          ]
        },
        {
          "name": "stdout",
          "output_type": "stream",
          "text": [
            "Epoch: 4851, Loss: 0.0005222385516390204)\n"
          ]
        },
        {
          "name": "stderr",
          "output_type": "stream",
          "text": [
            " 98%|█████████▊| 4901/5001 [13:43<00:22,  4.49it/s]"
          ]
        },
        {
          "name": "stdout",
          "output_type": "stream",
          "text": [
            "Epoch: 4901, Loss: 0.0004795412824023515)\n"
          ]
        },
        {
          "name": "stderr",
          "output_type": "stream",
          "text": [
            " 99%|█████████▉| 4952/5001 [13:51<00:07,  6.16it/s]"
          ]
        },
        {
          "name": "stdout",
          "output_type": "stream",
          "text": [
            "Epoch: 4951, Loss: 0.00048454420175403357)\n"
          ]
        },
        {
          "name": "stderr",
          "output_type": "stream",
          "text": [
            "100%|██████████| 5001/5001 [14:00<00:00,  5.95it/s]"
          ]
        },
        {
          "name": "stdout",
          "output_type": "stream",
          "text": [
            "Epoch: 5001, Loss: 0.000415522517869249)\n"
          ]
        },
        {
          "name": "stderr",
          "output_type": "stream",
          "text": [
            "\n"
          ]
        }
      ],
      "source": [
        "criterion = nn.CrossEntropyLoss(ignore_index=0)\n",
        "\n",
        "\n",
        "optimizer = optim.Adam(transformer.parameters(),\n",
        "                      lr=1e-4, betas=(0.9, 0.98), eps=1e-9)\n",
        "\n",
        "transformer.train()\n",
        "for epoch in tqdm(range(5001)):\n",
        "    optimizer.zero_grad()\n",
        "    output = transformer(source_data, target_data[:, :-1])\n",
        "    loss = criterion(output.reshape(\n",
        "        -1, target_vocab_size), target_data[:, 1:].reshape(-1))\n",
        "    loss.backward()\n",
        "    optimizer.step()\n",
        "    if epoch % 50 == 0:\n",
        "        tqdm.write(f'Epoch: {epoch+1}, Loss: {loss.item()})')"
      ]
    },
    {
      "cell_type": "code",
      "execution_count": null,
      "id": "nKE0r0UIJ_Pq",
      "metadata": {
        "id": "nKE0r0UIJ_Pq"
      },
      "outputs": [],
      "source": []
    }
  ],
  "metadata": {
    "colab": {
      "provenance": []
    },
    "kernelspec": {
      "display_name": "Python 3 (ipykernel)",
      "language": "python",
      "name": "python3"
    },
    "language_info": {
      "codemirror_mode": {
        "name": "ipython",
        "version": 3
      },
      "file_extension": ".py",
      "mimetype": "text/x-python",
      "name": "python",
      "nbconvert_exporter": "python",
      "pygments_lexer": "ipython3",
      "version": "3.10.9"
    }
  },
  "nbformat": 4,
  "nbformat_minor": 5
}
